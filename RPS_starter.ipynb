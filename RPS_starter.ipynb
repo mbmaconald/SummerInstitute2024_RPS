{
 "cells": [
  {
   "cell_type": "markdown",
   "id": "be70d816-6fda-4e19-959e-942f0338fe14",
   "metadata": {},
   "source": [
    "# Summer Teaching Institute 2024\n",
    "## Rock, Paper, Scissors, Code!\n",
    "\n",
    "Use this Jupyter Notebook to get started on the task of writing a python program that allows the user play a game of Rock, Paper, Scissors. In each cell that includes a \"#Your Code Here\" line, delete that line (including the hashmark) and input your own code. We recommend that, at first, you attempt to write the code entirely on your own, without any AI assistance. However, you can use traditional resources such as the Python documenation: https://docs.python.org/3/\n",
    "\n",
    "Above each cell is a \"hint\" - a recommendation of modules, methods, structures, etc that could be of assistance in the coding the cell below. Click on them if you get stuck! "
   ]
  },
  {
   "cell_type": "code",
   "execution_count": null,
   "id": "412ba85f-a476-457a-9402-2db4bf7b1f3c",
   "metadata": {},
   "outputs": [],
   "source": [
    "#import statements (these are the packages you will need for this task) - Do not Edit\n",
    "import random"
   ]
  },
  {
   "cell_type": "code",
   "execution_count": null,
   "id": "f3665acd-52a1-487a-a5d4-2abfa655eed4",
   "metadata": {},
   "outputs": [],
   "source": [
    "#define options\n",
    "#Your Code here"
   ]
  },
  {
   "cell_type": "markdown",
   "id": "38c5d542-aa6e-43d0-ab91-cc63cfe72045",
   "metadata": {},
   "source": [
    "[Hint 1](https://docs.python.org/3/tutorial/introduction.html#lists) for cell above"
   ]
  },
  {
   "cell_type": "code",
   "execution_count": null,
   "id": "ed18b5d4-d87c-404a-9f9c-6782a5b84681",
   "metadata": {},
   "outputs": [],
   "source": [
    "#How will the opponent's choice (rock, paper or scissors) be determined? Variable defined below\n",
    "opponent_gambit = "
   ]
  },
  {
   "cell_type": "markdown",
   "id": "dd3fae71-77fb-44c0-85fd-6e30378c2556",
   "metadata": {},
   "source": [
    "[Hint 1](https://docs.python.org/3/library/random.html#module-random) for cell above <p>\n",
    "[Hint 2](https://docs.python.org/3/library/random.html#random.choice) for cell above"
   ]
  },
  {
   "cell_type": "code",
   "execution_count": null,
   "id": "9f1cf43c-854a-4918-b1a9-4c4be61631b8",
   "metadata": {},
   "outputs": [],
   "source": [
    "#How will the player indicate their choice? Consider how the program must ensure that player is limited to only rock, paper or scissors?\n",
    "#Your Code here"
   ]
  },
  {
   "cell_type": "markdown",
   "id": "e840b875-2d38-4945-8e15-b875e7714555",
   "metadata": {},
   "source": [
    "[Hint 1](https://docs.python.org/3/library/functions.html#input) for cell above"
   ]
  },
  {
   "cell_type": "code",
   "execution_count": null,
   "id": "9d71faa7-73ad-4c10-b023-d4bed34b7f90",
   "metadata": {},
   "outputs": [],
   "source": [
    "#Once the player's and opponent's choices have been defined, how will the winner be determined?\n",
    "#Your Code here"
   ]
  },
  {
   "cell_type": "markdown",
   "id": "4e32bda1-3b1e-450a-8752-0fe701136bcb",
   "metadata": {},
   "source": [
    "[Hint 1](https://docs.python.org/3/tutorial/controlflow.html#if-statements) for cell above"
   ]
  },
  {
   "cell_type": "code",
   "execution_count": null,
   "id": "b341e60d-eb77-4717-84a2-e177dc64ccdc",
   "metadata": {},
   "outputs": [],
   "source": [
    "#How will the program announce the result?\n",
    "#Your Code here"
   ]
  },
  {
   "cell_type": "markdown",
   "id": "051a996d-7d76-4ca9-9cc8-03cb7a06beca",
   "metadata": {},
   "source": [
    "[Hint 1](https://realpython.com/python-print/#calling-print) for cell above"
   ]
  },
  {
   "cell_type": "code",
   "execution_count": null,
   "id": "2a2fc7ed-a2d0-4bc9-899b-784f137ea31c",
   "metadata": {},
   "outputs": [],
   "source": [
    "#Bonus - what happens after one hand/game has finished?\n",
    "#Your Code here"
   ]
  }
 ],
 "metadata": {
  "kernelspec": {
   "display_name": "Python 3 (ipykernel)",
   "language": "python",
   "name": "python3"
  },
  "language_info": {
   "codemirror_mode": {
    "name": "ipython",
    "version": 3
   },
   "file_extension": ".py",
   "mimetype": "text/x-python",
   "name": "python",
   "nbconvert_exporter": "python",
   "pygments_lexer": "ipython3",
   "version": "3.9.7"
  }
 },
 "nbformat": 4,
 "nbformat_minor": 5
}
